{
 "cells": [
  {
   "cell_type": "code",
   "execution_count": 166,
   "metadata": {},
   "outputs": [],
   "source": [
    "import matlab\n",
    "import matlab.engine\n",
    "import numpy as np\n",
    "import os\n",
    "from itertools import permutations, product\n",
    "import random"
   ]
  },
  {
   "cell_type": "code",
   "execution_count": 167,
   "metadata": {},
   "outputs": [],
   "source": [
    "eng = matlab.engine.start_matlab() \n",
    "eng.addpath('.', nargout=0) \n",
    "### See http://cvxr.com/cvx/ and https://docs.mosek.com/latest/toolbox/install-interface.html for more information on installation.\n",
    "### The subdirectory w64 (Windows)/ maci64 (Mac) in cvx can be found in cvx/mosek.\n",
    "eng.addpath(r'w64',nargout=0)"
   ]
  },
  {
   "cell_type": "code",
   "execution_count": 168,
   "metadata": {},
   "outputs": [],
   "source": [
    "import math\n",
    "import random\n",
    "import numpy as np\n",
    "from numpy import pi\n",
    "import matplotlib.pyplot as plt\n",
    "from sklearn.datasets import make_circles\n",
    "import operator\n",
    "import gudhi as gd\n",
    "from sklearn.cluster import KMeans\n",
    "\n",
    "def Extract0(lst): \n",
    "    return [item[0] for item in lst]  ### extract the first element in the sublist\n",
    "def Extract1(lst): \n",
    "    return [item[1] for item in lst]  ### extract the second element in the sublist\n",
    "def Extract2(lst): \n",
    "    return [item[2] for item in lst]  ### extract the second element in the sublist\n",
    "\n",
    "def rips_filtration(data, max_edge):\n",
    "\n",
    "    birth1_all = []\n",
    "    death1_all = []\n",
    "\n",
    "    for i in range(len(data)):\n",
    "        rips_complex = gd.RipsComplex(points=data[i],\n",
    "                                     max_edge_length=max_edge)\n",
    "\n",
    "        simplex_tree = rips_complex.create_simplex_tree(max_dimension=2)\n",
    "\n",
    "        BarCodes_Rips01 = simplex_tree.persistence()\n",
    "        index = Extract0(BarCodes_Rips01).index(0) ### remove the infinity bar\n",
    "        del BarCodes_Rips01[index]\n",
    "    \n",
    "        index = Extract0(BarCodes_Rips01).index(0) ### seperate H0 and H1\n",
    "        BarCodes_Rips1 = Extract1(BarCodes_Rips01[0:index]) ### remmoving the dimension number\n",
    "    \n",
    "        birth1 = []\n",
    "        death1 = []\n",
    "        for item in BarCodes_Rips1: ### extracting birth and death for H1\n",
    "            birth1.append(item[0])\n",
    "            death1.append(item[1])\n",
    "        birth1_all.append(birth1)\n",
    "        death1_all.append(death1)\n",
    "    return (birth1_all, death1_all)   \n",
    "\n",
    "def bar_length(data, birth1_all, death1_all): ### death1_all, birth1_all are the output from filtration\n",
    "    bar_length_h1 = []\n",
    "\n",
    "    for i in range(len(data)):\n",
    "        bar_length = np.subtract(death1_all[i],birth1_all[i])\n",
    "        bar_length_h1.append(bar_length)\n",
    "        \n",
    "    return(bar_length_h1)"
   ]
  },
  {
   "cell_type": "code",
   "execution_count": 169,
   "metadata": {},
   "outputs": [],
   "source": [
    "def s(theta, t):\n",
    "    x = theta[0] + theta[2] * np.cos(t)\n",
    "    y = theta[1] + theta[2] * np.sin(t)\n",
    "    return np.array([x, y])\n",
    "\n",
    "x_pre_change = []\n",
    "y_pre_change = []\n",
    "pre_change = []\n",
    "width = 2.8\n",
    "height = 1.4\n",
    "for i in range(20):\n",
    "    ts = np.linspace(0, 2 * np.pi, num=100) ### 100 points sampled on circle\n",
    "    cx = 0; cy = 0; r = 1; noise = 0.05 ### set the noise to be 0.05\n",
    "    ss = s([cx, cy, r], ts)\n",
    "    ss[0] += noise * np.random.randn(ts.shape[0]) ### uniform distribution over [0, 1)\n",
    "    ss[1] += noise * np.random.randn(ts.shape[0])\n",
    "    ss[0] = ss[0] * width/2.0\n",
    "    ss[1] = ss[1] * height/2.0\n",
    "    x_pre_change.append(ss[0])\n",
    "    y_pre_change.append(ss[1])\n",
    "    pre_change.append(list(zip(ss[0], ss[1])))\n",
    "    \n",
    "x_post_change = []\n",
    "y_post_change = []\n",
    "post_change = []\n",
    "width = 2.8\n",
    "height = 1.4\n",
    "for i in range(20):\n",
    "    ts = np.linspace(0, 2 * np.pi, num=100) ### 100 points sampled on circle\n",
    "    cx = 0; cy = 0; r = 1; noise = 0.10 ### set the noise to be 0.05\n",
    "    ss = s([cx, cy, r], ts)\n",
    "    ss[0] += noise * np.random.randn(ts.shape[0]) ### uniform distribution over [0, 1)\n",
    "    ss[1] += noise * np.random.randn(ts.shape[0])\n",
    "    ss[0] = ss[0] * width/2.0\n",
    "    ss[1] = ss[1] * height/2.0\n",
    "    x_post_change.append(ss[0])\n",
    "    y_post_change.append(ss[1])\n",
    "    post_change.append(list(zip(ss[0], ss[1])))\n",
    "    \n",
    "data = pre_change+ post_change\n",
    "data = np.array(data)"
   ]
  },
  {
   "cell_type": "code",
   "execution_count": 170,
   "metadata": {},
   "outputs": [],
   "source": [
    "birth1_all_pre, death1_all_pre = rips_filtration(pre_change, 5)\n",
    "bar_length_h1_pre = bar_length(pre_change, birth1_all_pre, death1_all_pre)\n",
    "\n",
    "birth1_all_post, death1_all_post = rips_filtration(post_change, 5)\n",
    "bar_length_h1_post = bar_length(post_change, birth1_all_post, death1_all_post)"
   ]
  },
  {
   "cell_type": "code",
   "execution_count": 171,
   "metadata": {},
   "outputs": [],
   "source": [
    "birth1_all_pre_flat = sum(birth1_all_pre, [])\n",
    "bar_length_h1_pre = [l.tolist() for l in bar_length_h1_pre]\n",
    "bar_length_h1_pre_flat = sum(bar_length_h1_pre, [])\n",
    "pre_flat = zip(birth1_all_pre_flat, bar_length_h1_pre_flat)\n",
    "sorted_pre_flat = sorted(pre_flat)\n",
    "\n",
    "birth1_all_post_flat = sum(birth1_all_post, [])\n",
    "bar_length_h1_post = [l.tolist() for l in bar_length_h1_post]\n",
    "bar_length_h1_post_flat = sum(bar_length_h1_post, [])\n",
    "post_flat = zip(birth1_all_post_flat, bar_length_h1_post_flat)\n",
    "sorted_post_flat = sorted(post_flat)"
   ]
  },
  {
   "cell_type": "code",
   "execution_count": 172,
   "metadata": {},
   "outputs": [
    {
     "data": {
      "text/plain": [
       "[<matplotlib.lines.Line2D at 0x23c7d43c4c0>]"
      ]
     },
     "execution_count": 172,
     "metadata": {},
     "output_type": "execute_result"
    },
    {
     "data": {
      "image/png": "[encoded data removed]",
      "text/plain": [
       "<Figure size 432x288 with 1 Axes>"
      ]
     },
     "metadata": {
      "needs_background": "light"
     },
     "output_type": "display_data"
    }
   ],
   "source": [
    "# function returns WSS score for k values from 1 to kmax\n",
    "def calculate_WSS(points, kmax):\n",
    "  sse = []\n",
    "  for k in range(1, kmax+1):\n",
    "    kmeans = KMeans(n_clusters = k, init='k-means++', max_iter=300, n_init=10, random_state=0).fit(points)\n",
    "    centroids = kmeans.cluster_centers_\n",
    "    pred_clusters = kmeans.predict(points)\n",
    "    curr_sse = 0\n",
    "    \n",
    "    # calculate square of Euclidean distance of each point from its cluster center and add to current WSS\n",
    "    for i in range(len(points)):\n",
    "      curr_center = centroids[pred_clusters[i]]\n",
    "      curr_sse += (points[i][0] - curr_center[0]) ** 2 + (points[i][1] - curr_center[1]) ** 2\n",
    "    sse.append(curr_sse)\n",
    "  return sse\n",
    "\n",
    "plt.plot(calculate_WSS(sorted_pre_flat, 7)) ### 2 clusters\n",
    "plt.plot(calculate_WSS(sorted_post_flat, 7)) ### 2 clusters"
   ]
  },
  {
   "cell_type": "code",
   "execution_count": 173,
   "metadata": {},
   "outputs": [
    {
     "name": "stdout",
     "output_type": "stream",
     "text": [
      "[[0.25529084 1.08818905]\n",
      " [0.31119273 0.92205426]\n",
      " [0.23619563 0.01965223]\n",
      " [0.17702578 0.01349417]]\n"
     ]
    },
    {
     "data": {
      "image/png": "[encoded data removed]",
      "text/plain": [
       "<Figure size 432x288 with 1 Axes>"
      ]
     },
     "metadata": {
      "needs_background": "light"
     },
     "output_type": "display_data"
    }
   ],
   "source": [
    "kmeans_pre = KMeans(n_clusters=2, init='k-means++', max_iter=300, n_init=10, random_state=0)\n",
    "kmeans_pre.fit(sorted_pre_flat)\n",
    "kmeans_post = KMeans(n_clusters=2, init='k-means++', max_iter=300, n_init=10, random_state=0)\n",
    "kmeans_post.fit(sorted_post_flat)\n",
    "\n",
    "centroid_pre = np.append(kmeans_pre.cluster_centers_,np.zeros([len(kmeans_pre.cluster_centers_),1]),1)\n",
    "centroid_post = np.append(kmeans_post.cluster_centers_,np.ones([len(kmeans_post.cluster_centers_),1]),1)\n",
    "centroid_both = np.concatenate((centroid_pre, centroid_post), axis=0)\n",
    "centroid_both = centroid_both[np.argsort(-centroid_both[:, 1])]\n",
    "\n",
    "centroid_both_vor = centroid_both[:,0:2]\n",
    "print(centroid_both_vor)\n",
    "\n",
    "from scipy.spatial import Voronoi, voronoi_plot_2d\n",
    "vor = Voronoi(centroid_both_vor)\n",
    "\n",
    "fig = voronoi_plot_2d(vor)\n",
    "plt.show()"
   ]
  },
  {
   "cell_type": "code",
   "execution_count": 176,
   "metadata": {},
   "outputs": [],
   "source": [
    "zip_all_pre = []\n",
    "for i in range(len(pre_change)):\n",
    "    #bar_length_h1_pre[i] = [l.tolist() for l in bar_length_h1_pre[i]]\n",
    "    zip_all_pre.append(tuple(zip(birth1_all_pre[i], bar_length_h1_pre[i])))\n",
    "\n",
    "zip_all_post = []\n",
    "for i in range(len(post_change)):\n",
    "    #bar_length_h1_post[i] = [l.tolist() for l in bar_length_h1_post[i]]\n",
    "    zip_all_post.append(tuple(zip(birth1_all_post[i], bar_length_h1_post[i])))\n",
    "\n",
    "points = np.array([[0.25529084, 1.08818905],\n",
    " [0.31119273, 0.92205426],\n",
    " [0.23619563, 0.01965223],\n",
    " [0.17702578, 0.01349417]])\n",
    "\n",
    "prop_all_pre = []\n",
    "for i in range(len(zip_all_pre)):\n",
    "    point_index = []\n",
    "    for j in range(len(zip_all_pre[i])):\n",
    "        point_index.append(np.argmin(np.sum((points - list(zip_all_pre[i][j]))**2, axis=1)))\n",
    "    prop = []\n",
    "    for i in range(len(points)):\n",
    "        prop.append(point_index.count(i))\n",
    "    prop_all_pre.append(prop)\n",
    "\n",
    "prop_all_post = []\n",
    "for i in range(len(zip_all_post)):\n",
    "    point_index = []\n",
    "    for j in range(len(zip_all_post[i])):\n",
    "        point_index.append(np.argmin(np.sum((points - list(zip_all_post[i][j]))**2, axis=1)))\n",
    "    prop = []\n",
    "    for i in range(len(points)):\n",
    "        prop.append(point_index.count(i))\n",
    "    prop_all_post.append(prop)\n",
    "\n",
    "prop_all_pre/=np.sum(prop_all_pre, axis=1).reshape(-1,1)\n",
    "prop_all_post/=np.sum(prop_all_post, axis=1).reshape(-1,1)\n",
    "hist_pre = prop_all_pre\n",
    "hist_post = prop_all_post"
   ]
  },
  {
   "cell_type": "code",
   "execution_count": 177,
   "metadata": {},
   "outputs": [
    {
     "data": {
      "text/plain": [
       "[2.304165546247164, 2.0447645436778212, 2.1681953600925272, 1.702700233400409]"
      ]
     },
     "execution_count": 177,
     "metadata": {},
     "output_type": "execute_result"
    }
   ],
   "source": [
    "hist_pre_permute = []\n",
    "hist_post_permute = []\n",
    "for i in range(1000):\n",
    "    hist_pre_permute.append(random.sample(hist_pre.tolist(), 20))\n",
    "    hist_post_permute.append(random.sample(hist_post.tolist(), 20))\n",
    "\n",
    "pre_post_avg = []\n",
    "pre_post_pair = list(product(hist_pre, hist_post))\n",
    "for i in range(400):\n",
    "    pre_post_avg.append((np.array(pre_post_pair[i][0])+ np.array(pre_post_pair[i][1]))/2)\n",
    "pre_post_avg = np.array(pre_post_avg).T.tolist()\n",
    "pre_post_avg = matlab.double(pre_post_avg)  \n",
    "\n",
    "weights_opt = eng.optimal_weights_tda(pre_post_avg) \n",
    "#weights_opt = eng.optimal_weights_tda(hist_pre, hist_post) \n",
    "weights_opt = np.asarray(weights_opt).tolist()\n",
    "weights_opt = [ item for elem in weights_opt for item in elem]\n",
    "weights_opt"
   ]
  }
 ],
 "metadata": {
  "interpreter": {
   "hash": "554111a533ce0b5fbb648bd90963179515d42b40403b580046ebdb2248c4b640"
  },
  "kernelspec": {
   "display_name": "Python 3.9.6 64-bit",
   "language": "python",
   "name": "python3"
  },
  "language_info": {
   "codemirror_mode": {
    "name": "ipython",
    "version": 3
   },
   "file_extension": ".py",
   "mimetype": "text/x-python",
   "name": "python",
   "nbconvert_exporter": "python",
   "pygments_lexer": "ipython3",
   "version": "3.8.8"
  },
  "orig_nbformat": 4
 },
 "nbformat": 4,
 "nbformat_minor": 2
}
